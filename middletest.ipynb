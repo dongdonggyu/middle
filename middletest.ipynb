{
 "cells": [
  {
   "cell_type": "markdown",
   "id": "3a364ecd",
   "metadata": {},
   "source": [
    "### [Chipotle의 주문데이터(01-chipotle-eda.ipynb)에 대해서 총판매액수가 가장 높은 상위 10개의 품목을 출력]"
   ]
  },
  {
   "cell_type": "code",
   "execution_count": 1,
   "id": "9c6c0319",
   "metadata": {},
   "outputs": [],
   "source": [
    "# -*- coding: utf-8 -*-\n",
    "\n",
    "%matplotlib inline\n",
    "\n",
    "import pandas as pd\n",
    "import numpy as np\n",
    "import matplotlib.pyplot as plt\n",
    "from scipy.stats import ttest_ind\n",
    "\n",
    "import warnings\n",
    "warnings.filterwarnings(\"ignore\")\n"
   ]
  },
  {
   "cell_type": "code",
   "execution_count": 2,
   "id": "0123e178",
   "metadata": {},
   "outputs": [
    {
     "name": "stdout",
     "output_type": "stream",
     "text": [
      "item_name\n",
      "Chicken Bowl                    8044.63\n",
      "Chicken Burrito                 6387.06\n",
      "Steak Burrito                   4236.13\n",
      "Steak Bowl                      2479.81\n",
      "Chips and Guacamole             2475.62\n",
      "Chicken Salad Bowl              1506.25\n",
      "Chicken Soft Tacos              1199.01\n",
      "Chips and Fresh Tomato Salsa    1033.96\n",
      "Veggie Burrito                  1002.27\n",
      "Veggie Bowl                      901.95\n",
      "Name: revenue, dtype: float64\n"
     ]
    }
   ],
   "source": [
    "\n",
    "file_path = '../data/chipotle.tsv'\n",
    "df = pd.read_csv(file_path, sep='\\t')\n",
    "\n",
    "# 문자열을 숫자형으로 변환\n",
    "df['item_price'] = df['item_price'].apply(lambda x: float(x[1:-1]))\n",
    "\n",
    "# 총 판매액 계산\n",
    "df['revenue'] = df['item_price'] * df['quantity']\n",
    "\n",
    "# 상위 10개 품목 출력\n",
    "top_items = df.groupby('item_name')['revenue'].sum().sort_values(ascending=False).head(10)\n",
    "print(top_items)"
   ]
  },
  {
   "cell_type": "markdown",
   "id": "f0f6bd7f",
   "metadata": {},
   "source": [
    "### [유럽국가들에 대해서는 맥주와 와인간의 상관관계는 얼마나 되는지 피어슨상관값(Pearson Correlation)을 구하기.]"
   ]
  },
  {
   "cell_type": "code",
   "execution_count": 3,
   "id": "6665a746",
   "metadata": {},
   "outputs": [
    {
     "name": "stdout",
     "output_type": "stream",
     "text": [
      "Pearson correlation between beer and wine consumption for European countries: 0.30\n"
     ]
    }
   ],
   "source": [
    "file_paths = '../data/drinks.csv'\n",
    "drinks = pd.read_csv(file_paths)\n",
    "\n",
    "# 유럽 국가만 포함하도록 데이터 집합 필터링\n",
    "europe = drinks[drinks['continent'] == 'EU']\n",
    "\n",
    "# 맥주와 와인 소비량 사이의 Pearson 상관 계수 계산\n",
    "beer_wine_corr = europe['beer_servings'].corr(europe['wine_servings'], method='pearson')\n",
    "\n",
    "#  결과\n",
    "print(f\"Pearson correlation between beer and wine consumption for European countries: {beer_wine_corr:.2f}\")"
   ]
  },
  {
   "cell_type": "markdown",
   "id": "1bf23c4a",
   "metadata": {},
   "source": [
    "### [한화팀과 SK팀간의 2017년 연봉의 평균간에는 유의미한 차이가 존재하는지 t-test로 검정하기.]"
   ]
  },
  {
   "cell_type": "code",
   "execution_count": 4,
   "id": "b9964785",
   "metadata": {},
   "outputs": [
    {
     "name": "stdout",
     "output_type": "stream",
     "text": [
      "한화 평균 연봉: 22253.846153846152\n",
      "SK 평균 연봉: 17736.842105263157\n",
      "t-test 통계량: 0.6624041217840793\n",
      "p-value: 0.5099280465043418\n"
     ]
    }
   ],
   "source": [
    "# Data Source : http://www.statiz.co.kr/\n",
    "\n",
    "picher_file_path = '../data/picher_stats_2017.csv'\n",
    "batter_file_path = '../data/batter_stats_2017.csv'\n",
    "picher = pd.read_csv(picher_file_path)\n",
    "batter = pd.read_csv(batter_file_path)\n",
    "salaries = pd.concat([picher, batter])\n",
    "\n",
    "# 한화팀과 SK팀 데이터 나누기\n",
    "HanWha = salaries.loc[salaries['팀명'] == '한화']\n",
    "SK =  salaries.loc[salaries['팀명'] == 'SK']\n",
    "\n",
    "# 각 팀의 연봉 평균 계산\n",
    "HanWha_salary = HanWha['연봉(2017)'].mean()\n",
    "SK_salary = SK['연봉(2017)'].mean()\n",
    "\n",
    "# t-test로 두 팀 간의 차이 검정\n",
    "t_stat, p_val = ttest_ind(HanWha['연봉(2017)'], SK['연봉(2017)'], equal_var=False)\n",
    "\n",
    "print('한화 평균 연봉:', HanWha_salary)\n",
    "print('SK 평균 연봉:', SK_salary)\n",
    "print('t-test 통계량:', t_stat)\n",
    "print('p-value:', p_val)"
   ]
  }
 ],
 "metadata": {
  "kernelspec": {
   "display_name": "Python 3 (ipykernel)",
   "language": "python",
   "name": "python3"
  },
  "language_info": {
   "codemirror_mode": {
    "name": "ipython",
    "version": 3
   },
   "file_extension": ".py",
   "mimetype": "text/x-python",
   "name": "python",
   "nbconvert_exporter": "python",
   "pygments_lexer": "ipython3",
   "version": "3.8.16"
  }
 },
 "nbformat": 4,
 "nbformat_minor": 5
}
